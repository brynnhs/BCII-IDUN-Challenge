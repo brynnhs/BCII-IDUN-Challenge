{
 "cells": [
  {
   "cell_type": "markdown",
   "metadata": {},
   "source": []
  },
  {
   "cell_type": "code",
   "execution_count": 11,
   "metadata": {},
   "outputs": [],
   "source": [
    "from utils import markers, load_eeg, load_labels, get_event_epochs\n",
    "from pathlib import Path\n",
    "import numpy as np"
   ]
  },
  {
   "cell_type": "code",
   "execution_count": 14,
   "metadata": {},
   "outputs": [],
   "source": [
    "SUBJECT = \"S001\"  # [S001-3 are in the training set, S004 is in the test set]\n",
    "data_dir = Path(r'data')"
   ]
  },
  {
   "cell_type": "code",
   "execution_count": 15,
   "metadata": {},
   "outputs": [
    {
     "name": "stdout",
     "output_type": "stream",
     "text": [
      "Creating RawArray with float64 data, n_channels=1, n_times=5394412\n",
      "    Range : 0 ... 5394411 =      0.000 ... 21577.644 secs\n",
      "Ready.\n",
      "<Info | 7 non-empty values\n",
      " bads: []\n",
      " ch_names: EEG1\n",
      " chs: 1 EEG\n",
      " custom_ref_applied: False\n",
      " highpass: 0.0 Hz\n",
      " lowpass: 125.0 Hz\n",
      " meas_date: unspecified\n",
      " nchan: 1\n",
      " projs: []\n",
      " sfreq: 250.0 Hz\n",
      ">\n"
     ]
    }
   ],
   "source": [
    "eeg = load_eeg(data_dir, SUBJECT)"
   ]
  },
  {
   "cell_type": "code",
   "execution_count": 16,
   "metadata": {},
   "outputs": [
    {
     "data": {
      "text/html": [
       "<div>\n",
       "<style scoped>\n",
       "    .dataframe tbody tr th:only-of-type {\n",
       "        vertical-align: middle;\n",
       "    }\n",
       "\n",
       "    .dataframe tbody tr th {\n",
       "        vertical-align: top;\n",
       "    }\n",
       "\n",
       "    .dataframe thead th {\n",
       "        text-align: right;\n",
       "    }\n",
       "</style>\n",
       "<table border=\"1\" class=\"dataframe\">\n",
       "  <thead>\n",
       "    <tr style=\"text-align: right;\">\n",
       "      <th></th>\n",
       "      <th>Marker</th>\n",
       "      <th>Timestamp_samples</th>\n",
       "      <th>Epoch</th>\n",
       "    </tr>\n",
       "  </thead>\n",
       "  <tbody>\n",
       "    <tr>\n",
       "      <th>0</th>\n",
       "      <td>REM</td>\n",
       "      <td>38643</td>\n",
       "      <td>6</td>\n",
       "    </tr>\n",
       "    <tr>\n",
       "      <th>1</th>\n",
       "      <td>REM</td>\n",
       "      <td>39196</td>\n",
       "      <td>6</td>\n",
       "    </tr>\n",
       "    <tr>\n",
       "      <th>2</th>\n",
       "      <td>REM</td>\n",
       "      <td>39404</td>\n",
       "      <td>6</td>\n",
       "    </tr>\n",
       "    <tr>\n",
       "      <th>3</th>\n",
       "      <td>REM</td>\n",
       "      <td>40046</td>\n",
       "      <td>6</td>\n",
       "    </tr>\n",
       "    <tr>\n",
       "      <th>4</th>\n",
       "      <td>REM</td>\n",
       "      <td>40725</td>\n",
       "      <td>6</td>\n",
       "    </tr>\n",
       "  </tbody>\n",
       "</table>\n",
       "</div>"
      ],
      "text/plain": [
       "  Marker  Timestamp_samples  Epoch\n",
       "0    REM              38643      6\n",
       "1    REM              39196      6\n",
       "2    REM              39404      6\n",
       "3    REM              40046      6\n",
       "4    REM              40725      6"
      ]
     },
     "execution_count": 16,
     "metadata": {},
     "output_type": "execute_result"
    }
   ],
   "source": [
    "labels = load_labels(data_dir, SUBJECT)\n",
    "\n",
    "labels.head()"
   ]
  },
  {
   "cell_type": "markdown",
   "metadata": {},
   "source": [
    "## Other preprocessing steps"
   ]
  },
  {
   "cell_type": "code",
   "execution_count": null,
   "metadata": {},
   "outputs": [],
   "source": []
  },
  {
   "cell_type": "code",
   "execution_count": null,
   "metadata": {},
   "outputs": [],
   "source": [
    "epoch_eeg_data = []\n",
    "epoch_labels = []\n",
    "\n",
    "for marker in markers:\n",
    "    epochs = get_event_epochs(eeg, labels, marker)\n",
    "    if epochs is None:\n",
    "        print(f\"!!! --- No epochs found for marker {marker}\")\n",
    "        continue\n",
    "\n",
    "    _data = epochs.get_data()[:, 0, :]\n",
    "    epoch_eeg_data.append(_data)\n",
    "    epoch_labels.append(np.full(len(_data), marker))\n",
    "\n",
    "assert len(epoch_eeg_data) == len(epoch_labels)\n",
    "\n",
    "X = np.concatenate(epoch_eeg_data, axis=0)\n",
    "y = np.concatenate(epoch_labels, axis=0)\n",
    "\n",
    "print(X.shape, y.shape)\n",
    "\n",
    "np.save(data_dir / f\"{SUBJECT}_X.npy\", X)\n",
    "np.save(data_dir / f\"{SUBJECT}_y.npy\", y)"
   ]
  }
 ],
 "metadata": {
  "kernelspec": {
   "display_name": "ncil",
   "language": "python",
   "name": "python3"
  },
  "language_info": {
   "codemirror_mode": {
    "name": "ipython",
    "version": 3
   },
   "file_extension": ".py",
   "mimetype": "text/x-python",
   "name": "python",
   "nbconvert_exporter": "python",
   "pygments_lexer": "ipython3",
   "version": "3.12.2"
  }
 },
 "nbformat": 4,
 "nbformat_minor": 2
}
